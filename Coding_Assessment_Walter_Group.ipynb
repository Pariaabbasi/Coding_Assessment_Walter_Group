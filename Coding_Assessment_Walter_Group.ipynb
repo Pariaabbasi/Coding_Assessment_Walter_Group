{
 "cells": [
  {
   "cell_type": "code",
   "execution_count": 103,
   "metadata": {
    "id": "BsChQE9LOGo3"
   },
   "outputs": [],
   "source": [
    "# HI There, Just relax and enjoy the show :)\n",
    "\n",
    "# Your task in this challenge is to predict the cost of the houses in particular blocks \n",
    "# based on different sociodemographic attributes \n",
    "# (It's up to you to decide which attributes you want to use, you can include location information or not)\n",
    "\n",
    "# You can use any of the libraries that you want\n",
    "# These libraries below are just a recommendation\n",
    "\n",
    "\n",
    "# CHALLENGE 1: If some of those libraries are  not available on your system,\n",
    "# you would need to resolve the dependencies as part of this challenge\n",
    "\n",
    "import numpy as np\n",
    "import matplotlib.pyplot as plt \n",
    "\n",
    "import pandas as pd  \n",
    "import seaborn as sns \n",
    "from sklearn.datasets import fetch_california_housing\n",
    "from sklearn.model_selection import train_test_split\n",
    "from sklearn import linear_model\n",
    "from sklearn.ensemble import RandomForestRegressor\n",
    "from sklearn.metrics import mean_absolute_error\n",
    "import math\n",
    "\n",
    "%matplotlib inline"
   ]
  },
  {
   "cell_type": "code",
   "execution_count": 28,
   "metadata": {
    "colab": {
     "base_uri": "https://localhost:8080/",
     "height": 204
    },
    "id": "h3-YjCEjOGo6",
    "outputId": "ac8bd758-8ae8-4671-fdaf-98a984096f00"
   },
   "outputs": [
    {
     "data": {
      "text/html": [
       "<div>\n",
       "<style scoped>\n",
       "    .dataframe tbody tr th:only-of-type {\n",
       "        vertical-align: middle;\n",
       "    }\n",
       "\n",
       "    .dataframe tbody tr th {\n",
       "        vertical-align: top;\n",
       "    }\n",
       "\n",
       "    .dataframe thead th {\n",
       "        text-align: right;\n",
       "    }\n",
       "</style>\n",
       "<table border=\"1\" class=\"dataframe\">\n",
       "  <thead>\n",
       "    <tr style=\"text-align: right;\">\n",
       "      <th></th>\n",
       "      <th>MedInc</th>\n",
       "      <th>HouseAge</th>\n",
       "      <th>AveRooms</th>\n",
       "      <th>AveBedrms</th>\n",
       "      <th>Population</th>\n",
       "      <th>AveOccup</th>\n",
       "      <th>Latitude</th>\n",
       "      <th>Longitude</th>\n",
       "      <th>MedHouseVal</th>\n",
       "    </tr>\n",
       "  </thead>\n",
       "  <tbody>\n",
       "    <tr>\n",
       "      <th>0</th>\n",
       "      <td>8.3252</td>\n",
       "      <td>41.0</td>\n",
       "      <td>6.984127</td>\n",
       "      <td>1.023810</td>\n",
       "      <td>322.0</td>\n",
       "      <td>2.555556</td>\n",
       "      <td>37.88</td>\n",
       "      <td>-122.23</td>\n",
       "      <td>4.526</td>\n",
       "    </tr>\n",
       "    <tr>\n",
       "      <th>1</th>\n",
       "      <td>8.3014</td>\n",
       "      <td>21.0</td>\n",
       "      <td>6.238137</td>\n",
       "      <td>0.971880</td>\n",
       "      <td>2401.0</td>\n",
       "      <td>2.109842</td>\n",
       "      <td>37.86</td>\n",
       "      <td>-122.22</td>\n",
       "      <td>3.585</td>\n",
       "    </tr>\n",
       "    <tr>\n",
       "      <th>2</th>\n",
       "      <td>7.2574</td>\n",
       "      <td>52.0</td>\n",
       "      <td>8.288136</td>\n",
       "      <td>1.073446</td>\n",
       "      <td>496.0</td>\n",
       "      <td>2.802260</td>\n",
       "      <td>37.85</td>\n",
       "      <td>-122.24</td>\n",
       "      <td>3.521</td>\n",
       "    </tr>\n",
       "    <tr>\n",
       "      <th>3</th>\n",
       "      <td>5.6431</td>\n",
       "      <td>52.0</td>\n",
       "      <td>5.817352</td>\n",
       "      <td>1.073059</td>\n",
       "      <td>558.0</td>\n",
       "      <td>2.547945</td>\n",
       "      <td>37.85</td>\n",
       "      <td>-122.25</td>\n",
       "      <td>3.413</td>\n",
       "    </tr>\n",
       "    <tr>\n",
       "      <th>4</th>\n",
       "      <td>3.8462</td>\n",
       "      <td>52.0</td>\n",
       "      <td>6.281853</td>\n",
       "      <td>1.081081</td>\n",
       "      <td>565.0</td>\n",
       "      <td>2.181467</td>\n",
       "      <td>37.85</td>\n",
       "      <td>-122.25</td>\n",
       "      <td>3.422</td>\n",
       "    </tr>\n",
       "    <tr>\n",
       "      <th>5</th>\n",
       "      <td>4.0368</td>\n",
       "      <td>52.0</td>\n",
       "      <td>4.761658</td>\n",
       "      <td>1.103627</td>\n",
       "      <td>413.0</td>\n",
       "      <td>2.139896</td>\n",
       "      <td>37.85</td>\n",
       "      <td>-122.25</td>\n",
       "      <td>2.697</td>\n",
       "    </tr>\n",
       "    <tr>\n",
       "      <th>6</th>\n",
       "      <td>3.6591</td>\n",
       "      <td>52.0</td>\n",
       "      <td>4.931907</td>\n",
       "      <td>0.951362</td>\n",
       "      <td>1094.0</td>\n",
       "      <td>2.128405</td>\n",
       "      <td>37.84</td>\n",
       "      <td>-122.25</td>\n",
       "      <td>2.992</td>\n",
       "    </tr>\n",
       "    <tr>\n",
       "      <th>7</th>\n",
       "      <td>3.1200</td>\n",
       "      <td>52.0</td>\n",
       "      <td>4.797527</td>\n",
       "      <td>1.061824</td>\n",
       "      <td>1157.0</td>\n",
       "      <td>1.788253</td>\n",
       "      <td>37.84</td>\n",
       "      <td>-122.25</td>\n",
       "      <td>2.414</td>\n",
       "    </tr>\n",
       "    <tr>\n",
       "      <th>8</th>\n",
       "      <td>2.0804</td>\n",
       "      <td>42.0</td>\n",
       "      <td>4.294118</td>\n",
       "      <td>1.117647</td>\n",
       "      <td>1206.0</td>\n",
       "      <td>2.026891</td>\n",
       "      <td>37.84</td>\n",
       "      <td>-122.26</td>\n",
       "      <td>2.267</td>\n",
       "    </tr>\n",
       "    <tr>\n",
       "      <th>9</th>\n",
       "      <td>3.6912</td>\n",
       "      <td>52.0</td>\n",
       "      <td>4.970588</td>\n",
       "      <td>0.990196</td>\n",
       "      <td>1551.0</td>\n",
       "      <td>2.172269</td>\n",
       "      <td>37.84</td>\n",
       "      <td>-122.25</td>\n",
       "      <td>2.611</td>\n",
       "    </tr>\n",
       "  </tbody>\n",
       "</table>\n",
       "</div>"
      ],
      "text/plain": [
       "   MedInc  HouseAge  AveRooms  AveBedrms  Population  AveOccup  Latitude  \\\n",
       "0  8.3252      41.0  6.984127   1.023810       322.0  2.555556     37.88   \n",
       "1  8.3014      21.0  6.238137   0.971880      2401.0  2.109842     37.86   \n",
       "2  7.2574      52.0  8.288136   1.073446       496.0  2.802260     37.85   \n",
       "3  5.6431      52.0  5.817352   1.073059       558.0  2.547945     37.85   \n",
       "4  3.8462      52.0  6.281853   1.081081       565.0  2.181467     37.85   \n",
       "5  4.0368      52.0  4.761658   1.103627       413.0  2.139896     37.85   \n",
       "6  3.6591      52.0  4.931907   0.951362      1094.0  2.128405     37.84   \n",
       "7  3.1200      52.0  4.797527   1.061824      1157.0  1.788253     37.84   \n",
       "8  2.0804      42.0  4.294118   1.117647      1206.0  2.026891     37.84   \n",
       "9  3.6912      52.0  4.970588   0.990196      1551.0  2.172269     37.84   \n",
       "\n",
       "   Longitude  MedHouseVal  \n",
       "0    -122.23        4.526  \n",
       "1    -122.22        3.585  \n",
       "2    -122.24        3.521  \n",
       "3    -122.25        3.413  \n",
       "4    -122.25        3.422  \n",
       "5    -122.25        2.697  \n",
       "6    -122.25        2.992  \n",
       "7    -122.25        2.414  \n",
       "8    -122.26        2.267  \n",
       "9    -122.25        2.611  "
      ]
     },
     "execution_count": 28,
     "metadata": {},
     "output_type": "execute_result"
    }
   ],
   "source": [
    "# We will work with this dataset in the next steps\n",
    "# CHALLENGE 2: Load the data ( it will get harder :) )\n",
    "df = fetch_california_housing(as_frame=True)[\"frame\"]\n",
    "df.head(10)\n",
    "\n",
    "# ---- Attribute Information ----:\n",
    "# MedInc:  median income in block\n",
    "# HouseAge:  median house age in block\n",
    "# AveRooms:  average number of rooms\n",
    "# AveBedrms:  average number of bedrooms\n",
    "# Population:  block population\n",
    "# AveOccup:  average house occupancy\n",
    "# Latitude:  house block latitude\n",
    "# Longitude:  house block longitude\n",
    "# MedHouseVal: the median house value for California districts (!! our target variable !!)\n",
    "\n",
    "# This dataset was derived from the 1990 U.S. census, using one row per census\n",
    "# block group. A block group is the smallest geographical unit for which the U.S.\n",
    "# Census Bureau publishes sample data (a block group typically has a population\n",
    "# of 600 to 3,000 people).\n"
   ]
  },
  {
   "cell_type": "code",
   "execution_count": 29,
   "metadata": {
    "id": "5PtK0hYpOGo9"
   },
   "outputs": [
    {
     "name": "stdout",
     "output_type": "stream",
     "text": [
      "   MedInc  HouseAge  AveRooms  AveBedrms  Population  AveOccup  Latitude  \\\n",
      "0  8.3252      41.0  6.984127   1.023810       322.0  2.555556     37.88   \n",
      "1  8.3014      21.0  6.238137   0.971880      2401.0  2.109842     37.86   \n",
      "2  7.2574      52.0  8.288136   1.073446       496.0  2.802260     37.85   \n",
      "3  5.6431      52.0  5.817352   1.073059       558.0  2.547945     37.85   \n",
      "4  3.8462      52.0  6.281853   1.081081       565.0  2.181467     37.85   \n",
      "\n",
      "   Longitude  MedHouseVal  \n",
      "0    -122.23        4.526  \n",
      "1    -122.22        3.585  \n",
      "2    -122.24        3.521  \n",
      "3    -122.25        3.413  \n",
      "4    -122.25        3.422  \n"
     ]
    }
   ],
   "source": [
    "# CHALLENGE 3: Explorative Data Analysis and Data Cleaning\n",
    "# Examine the data for outliers, missing values and try to apply some\n",
    "# cleaning on the data. Provide visualization if possible\n",
    "# Do you see any patterns, correlations in the data?\n",
    "# Please describe your observations\n",
    "\n",
    "# Data Cleaning in order to remove the possible blank rows and missing values\n",
    "#For this we imported pandas and use dropna function as follows:\n",
    "df.dropna(axis = 0, inplace = True)\n",
    "print(df.head())"
   ]
  },
  {
   "cell_type": "code",
   "execution_count": 46,
   "metadata": {},
   "outputs": [
    {
     "data": {
      "image/png": "[encoded data removed]",
      "text/plain": [
       "<Figure size 432x288 with 1 Axes>"
      ]
     },
     "metadata": {
      "needs_background": "light"
     },
     "output_type": "display_data"
    }
   ],
   "source": [
    "# Do you see any patterns, correlations in the data?\n",
    "# Please describe your observations\n",
    "\n",
    "# First observation:\n",
    "# We can see that people with higher median income in block live in places with higher median house value for California districts\n",
    "# This means that the median income in block is in proportional relationship with median house value for California districts\n",
    "# In the following, we deploy the scatter plot for the first 1000 rows of the two columns MedInc and MedHouseVal \n",
    "\n",
    "df.head(1000).plot(x = \"MedInc\", y = \"MedHouseVal\", kind = \"scatter\")\n",
    "plt.show()"
   ]
  },
  {
   "cell_type": "code",
   "execution_count": 45,
   "metadata": {},
   "outputs": [
    {
     "data": {
      "image/png": "[encoded data removed]",
      "text/plain": [
       "<Figure size 432x288 with 1 Axes>"
      ]
     },
     "metadata": {
      "needs_background": "light"
     },
     "output_type": "display_data"
    }
   ],
   "source": [
    "# In the following, we deploy the linear plot for the first 10 rows of the two columns MedInc and MedHouseVal \n",
    "\n",
    "df.head(10).plot(x = \"MedInc\", y = \"MedHouseVal\", kind = \"line\")\n",
    "plt.show()"
   ]
  },
  {
   "cell_type": "code",
   "execution_count": 44,
   "metadata": {},
   "outputs": [
    {
     "data": {
      "image/png": "[encoded data removed]",
      "text/plain": [
       "<Figure size 432x288 with 1 Axes>"
      ]
     },
     "metadata": {
      "needs_background": "light"
     },
     "output_type": "display_data"
    }
   ],
   "source": [
    "# Second observation:\n",
    "# Secondly, the higher the median income in block, the higher the average number of rooms\n",
    "# As the last part, we can observe that the these two attributes are in proportional relationship with each other\n",
    "# Here, we again do the scatter plot for the first 1000 rows of the columns MedInc and AveRooms\n",
    "\n",
    "df.head(1000).plot(x = \"MedInc\", y = \"AveRooms\", kind = \"scatter\")\n",
    "plt.show()"
   ]
  },
  {
   "cell_type": "code",
   "execution_count": 43,
   "metadata": {},
   "outputs": [
    {
     "data": {
      "image/png": "[encoded data removed]",
      "text/plain": [
       "<Figure size 432x288 with 1 Axes>"
      ]
     },
     "metadata": {
      "needs_background": "light"
     },
     "output_type": "display_data"
    }
   ],
   "source": [
    "# In the following, we deploy the linear plot for the first 10 rows of the two columns MedInc and AveRooms \n",
    "\n",
    "df.head(10).plot(x = \"MedInc\", y = \"AveRooms\", kind = \"line\")\n",
    "plt.show()"
   ]
  },
  {
   "cell_type": "code",
   "execution_count": 48,
   "metadata": {},
   "outputs": [
    {
     "name": "stdout",
     "output_type": "stream",
     "text": [
      "             MedInc  HouseAge  AveRooms  AveBedrms  Population  AveOccup  \\\n",
      "MedInc         1.00     -0.12      0.33      -0.06        0.00      0.02   \n",
      "HouseAge      -0.12      1.00     -0.15      -0.08       -0.30      0.01   \n",
      "AveRooms       0.33     -0.15      1.00       0.85       -0.07     -0.00   \n",
      "AveBedrms     -0.06     -0.08      0.85       1.00       -0.07     -0.01   \n",
      "Population     0.00     -0.30     -0.07      -0.07        1.00      0.07   \n",
      "AveOccup       0.02      0.01     -0.00      -0.01        0.07      1.00   \n",
      "Latitude      -0.08      0.01      0.11       0.07       -0.11      0.00   \n",
      "Longitude     -0.02     -0.11     -0.03       0.01        0.10      0.00   \n",
      "MedHouseVal    0.69      0.11      0.15      -0.05       -0.02     -0.02   \n",
      "\n",
      "             Latitude  Longitude  MedHouseVal  \n",
      "MedInc          -0.08      -0.02         0.69  \n",
      "HouseAge         0.01      -0.11         0.11  \n",
      "AveRooms         0.11      -0.03         0.15  \n",
      "AveBedrms        0.07       0.01        -0.05  \n",
      "Population      -0.11       0.10        -0.02  \n",
      "AveOccup         0.00       0.00        -0.02  \n",
      "Latitude         1.00      -0.92        -0.14  \n",
      "Longitude       -0.92       1.00        -0.05  \n",
      "MedHouseVal     -0.14      -0.05         1.00  \n"
     ]
    }
   ],
   "source": [
    "# In order to measure the relationships between all pairs of attributes, one can utilize the correlation coefficient\n",
    "# which ranges from -1 to 1 and in particular, the equality to zero means there is no relationship\n",
    "# To observe all of the correlation coefficients altogether on a table, we make use of corr() function to construct\n",
    "# the correspondence correlation matrix\n",
    "\n",
    "# In order to round the output to two decimals, we use the round function\n",
    "Corr_mat = round(df.corr(),2)\n",
    "print(Corr_mat)\n",
    "    \n",
    "# For instance, our previous observation regarding the relationship between MedInc and MedHouseVal can be read off\n",
    "# from the following table, where the correspondence value is 0.69 and since it is close to 1, we can say that there is a \n",
    "# (relatively perfect) linear relationship beween them.\n",
    "# On the other hand, we can see that the relationship (correlation coefficient) between Longitude and Latitude is -0.92,\n",
    "# which is close to -1 and therefore, there is a perfect negative linear relationship between them"
   ]
  },
  {
   "cell_type": "code",
   "execution_count": 97,
   "metadata": {},
   "outputs": [
    {
     "data": {
      "image/png": "[encoded data removed]",
      "text/plain": [
       "<Figure size 432x288 with 2 Axes>"
      ]
     },
     "metadata": {
      "needs_background": "light"
     },
     "output_type": "display_data"
    }
   ],
   "source": [
    "# To visualize all possible correlations between pairwise attributes given in the above table, one can use the heatmap \n",
    "# For this, we use heatmap() from the seaborn library\n",
    "\n",
    "# vmin and vmax stand for the maximum and minimum of the correlation coefficient and set to be -1 and 1, respectively.\n",
    "# the center is set to be 0 (no relationship)\n",
    "# we can define the colors with sns.diverging_palette and n=500 states that we want 500 types of color \n",
    "# in the same color palette\n",
    "Corr_df = df.corr()\n",
    "axis_corr = sns.heatmap(Corr_df, vmin=-1, vmax=1, center=0, cmap=sns.diverging_palette(50, 500, n=500),square=True)\n",
    "plt.show()\n",
    "\n",
    "# As mentioned earlier, the correlation coefficient ranges over the interval [-1, 1] and in the following visualization, \n",
    "# the closer the correlation coefficient is to 1, the darker greener the squares get and closer the correlation coefficient is \n",
    "# to -1, the darker browner the squares get."
   ]
  },
  {
   "cell_type": "code",
   "execution_count": 99,
   "metadata": {
    "id": "uqGwP9XiOGo-"
   },
   "outputs": [
    {
     "name": "stdout",
     "output_type": "stream",
     "text": [
      "(20640, 8) (20640,)\n"
     ]
    }
   ],
   "source": [
    "# CHALLENGE 4: Now divide your dataset into train- and testset and apply any models you want\n",
    "# (you can use any frameworks you want e.g sklearn, tensorflow etc)\n",
    "\n",
    "# First, the dataset(df) must be split into input and output components\n",
    "data = df.values\n",
    "X, y = data[:, :-1], data[:, -1]\n",
    "print(X.shape, y.shape)\n"
   ]
  },
  {
   "cell_type": "code",
   "execution_count": 106,
   "metadata": {},
   "outputs": [
    {
     "name": "stdout",
     "output_type": "stream",
     "text": [
      "(16512, 8) (4128, 8) (16512,) (4128,)\n"
     ]
    }
   ],
   "source": [
    "# Now, we split the dataset using 80% for training and 20% for testing\n",
    "# We split dataset into train test sets\n",
    "\n",
    "X_train, X_test, y_train, y_test = train_test_split(X, y, test_size=0.2, random_state=1)\n",
    "print(X_train.shape, X_test.shape, y_train.shape, y_test.shape)\n",
    "\n",
    "# Our dataset is split into train and test sets and it can be observed that there are 16512 rows for training \n",
    "# and 4128 rows for the test set."
   ]
  },
  {
   "cell_type": "code",
   "execution_count": 110,
   "metadata": {},
   "outputs": [
    {
     "data": {
      "text/plain": [
       "RandomForestRegressor(random_state=1)"
      ]
     },
     "execution_count": 110,
     "metadata": {},
     "output_type": "execute_result"
    }
   ],
   "source": [
    "# We now define and fit the model on the training dataset\n",
    "model = RandomForestRegressor(random_state=1)\n",
    "model.fit(X_train, y_train)"
   ]
  },
  {
   "cell_type": "code",
   "execution_count": 111,
   "metadata": {},
   "outputs": [
    {
     "name": "stdout",
     "output_type": "stream",
     "text": [
      "MAE: 0.3264\n"
     ]
    }
   ],
   "source": [
    "# We are using the mean absolute error (MAE) performance metric to evaluate the predictions\n",
    "\n",
    "yhat = model.predict(X_test)\n",
    "mae = mean_absolute_error(y_test, yhat)\n",
    "print('MAE: %.4f' % mae)\n",
    "\n",
    "# As a result, the MAE is approximately 0.33 when evaluating on the test set and making performance predictions "
   ]
  },
  {
   "cell_type": "code",
   "execution_count": 112,
   "metadata": {
    "id": "dLUx-osWOGo_"
   },
   "outputs": [
    {
     "name": "stdout",
     "output_type": "stream",
     "text": [
      "0.5713142742834281\n"
     ]
    }
   ],
   "source": [
    "# CHALLENGE 5: Measure the results of your models and apply model selection\n",
    "# Please argue why would you select one model over another\n",
    "\n",
    "# Another possible metric would be root mean squared error (rmse) which is the square root of the \n",
    "# average of squared differences between prediction and actual observation.\n",
    "# For instance in our case, since the mae is less than 1 and consequently, its square root will derive a \n",
    "# larger number than the initial number (mae~0.32) as we see in the following:\n",
    "rmse = math.sqrt(0.3264)\n",
    "print(rmse)\n",
    "# We conclude that mae < rmse and so, our metric mae is a better fitting model for our purpose."
   ]
  },
  {
   "cell_type": "code",
   "execution_count": 113,
   "metadata": {
    "id": "WxMyFZQWXBli"
   },
   "outputs": [],
   "source": [
    "# CHALLENNGE 6: Write a summary report of your results, including plots and \n",
    "#discussion of your results (You can reuse the outcome/plots from above). \n",
    "#The report shall cover the following questions:\n",
    "# 1. What was most interesting/surprising for you when you explored and visualized the data?\n",
    "# 2. What was the biggest problem for you to complete all challenges, and how did you solve the problem?\n",
    "# 3. Which model performed best, and why?\n",
    "# 4. ...\n",
    "\n",
    "\n",
    "# 1. The most interesting aspect was observing the correlations between different sociodemographic attributes; for instance, \n",
    "# our correlation matrix table illustrates that there is absolutely no correlation between population and median income in block, \n",
    "# which I was not aware of. The latter means the population size is completely independent of the median income \n",
    "# and vice versa.\n",
    "\n",
    "# 2. One of the main challenges I faced was identifying which model to implement for the fetch_california_housing dataset\n",
    "# and I overcame it by looking at and searching for different models.\n",
    "\n",
    "# 3. The other model that we can use is possible by utilizing the RandomForestClassifier from sklearn.ensemble. By measuring \n",
    "# performancy of the models, it can be realized that our model is one of the best model wich has a very low mae."
   ]
  }
 ],
 "metadata": {
  "colab": {
   "collapsed_sections": [],
   "name": "Coding_Assessment_Walter_Group.ipynb",
   "provenance": []
  },
  "kernelspec": {
   "display_name": "Python 3",
   "language": "python",
   "name": "python3"
  },
  "language_info": {
   "codemirror_mode": {
    "name": "ipython",
    "version": 3
   },
   "file_extension": ".py",
   "mimetype": "text/x-python",
   "name": "python",
   "nbconvert_exporter": "python",
   "pygments_lexer": "ipython3",
   "version": "3.8.5"
  }
 },
 "nbformat": 4,
 "nbformat_minor": 1
}
